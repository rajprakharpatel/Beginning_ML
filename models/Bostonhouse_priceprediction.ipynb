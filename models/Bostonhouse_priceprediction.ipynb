{
 "cells": [
  {
   "cell_type": "code",
   "execution_count": 2,
   "metadata": {
    "pycharm": {
     "is_executing": false
    }
   },
   "outputs": [],
   "source": [
    "import pandas as pd\n",
    "import numpy as np\n",
    "import matplotlib.pyplot as plt\n",
    "import seaborn as seabornInstance\n",
    "from sklearn.model_selection import train_test_split\n",
    "from sklearn.linear_model import LinearRegression\n",
    "from sklearn import metrics\n",
    "%matplotlib inline"
   ]
  },
  {
   "cell_type": "markdown",
   "metadata": {},
   "source": [
    "\n",
    "Import CSV dataset"
   ]
  },
  {
   "cell_type": "code",
   "execution_count": 43,
   "metadata": {
    "pycharm": {
     "is_executing": false,
     "name": "#%%\n"
    }
   },
   "outputs": [],
   "source": [
    "dataset = pd.read_csv(\"..\\\\data\\\\housing_ext.csv\")"
   ]
  },
  {
   "cell_type": "markdown",
   "metadata": {},
   "source": [
    "# Exploring the dataset\n",
    "The features can be summarized as follows:\n",
    "CRIM: This is the per capita crime rate by town\n",
    "ZN: This is the proportion of residential land zoned for lots larger than 25,000 sq.ft.\n",
    "INDUS: This is the proportion of non-retail business acres per town.\n",
    "CHAS: This is the Charles River dummy variable (this is equal to 1 if tract bounds river; 0 otherwise)\n",
    "NOX: This is the nitric oxides concentration (parts per 10 million)\n",
    "RM: This is the average number of rooms per dwelling\n",
    "AGE: This is the proportion of owner-occupied units built prior to 1940\n",
    "DIS: This is the weighted distances to five Boston employment centers\n",
    "RAD: This is the index of accessibility to radial highways\n",
    "TAX: This is the full-value property-tax rate per $10,000\n",
    "PTRATIO: This is the pupil-teacher ratio by town\n",
    "B: This is calculated as 1000(Bk — 0.63)², where Bk is the proportion of people of African American descent by town\n",
    "LSTAT: This is the percentage lower status of the population\n",
    "MEDV: This is the median value of owner-occupied homes in $1000s"
   ]
  },
  {
   "cell_type": "code",
   "execution_count": 4,
   "metadata": {
    "pycharm": {
     "is_executing": false,
     "name": "#%%\n"
    }
   },
   "outputs": [
    {
     "data": {
      "text/plain": "             CRIM          ZN       INDUS        CHAS         NOX          RM  \\\ncount  506.000000  506.000000  506.000000  506.000000  506.000000  506.000000   \nmean     1.716290   11.363636   11.136779    0.069170    0.554695    6.284634   \nstd      2.653510   23.322453    6.860353    0.253994    0.115878    0.702617   \nmin      0.006320    0.000000    0.460000    0.000000    0.385000    3.561000   \n25%      0.081900    0.000000    5.190000    0.000000    0.449000    5.885500   \n50%      0.250895    0.000000    9.690000    0.000000    0.538000    6.208500   \n75%      2.326718   12.500000   18.100000    0.000000    0.624000    6.623500   \nmax      9.966540  100.000000   27.740000    1.000000    0.871000    8.780000   \n\n              AGE         DIS         RAD         TAX     PTRATIO           B  \\\ncount  506.000000  506.000000  506.000000  506.000000  506.000000  506.000000   \nmean    68.574901    3.795043    9.549407  408.237154   18.455534  356.674032   \nstd     28.148861    2.105710    8.707259  168.537116    2.164946   91.294864   \nmin      2.900000    1.129600    1.000000  187.000000   12.600000    0.320000   \n25%     45.025000    2.100175    4.000000  279.000000   17.400000  375.377500   \n50%     77.500000    3.207450    5.000000  330.000000   19.050000  391.440000   \n75%     94.075000    5.188425   24.000000  666.000000   20.200000  396.225000   \nmax    100.000000   12.126500   24.000000  711.000000   22.000000  396.900000   \n\n            LSTAT        MEDV  \ncount  506.000000  506.000000  \nmean    12.653063   22.532806  \nstd      7.141062    9.197104  \nmin      1.730000    5.000000  \n25%      6.950000   17.025000  \n50%     11.360000   21.200000  \n75%     16.955000   25.000000  \nmax     37.970000   50.000000  ",
      "text/html": "<div>\n<style scoped>\n    .dataframe tbody tr th:only-of-type {\n        vertical-align: middle;\n    }\n\n    .dataframe tbody tr th {\n        vertical-align: top;\n    }\n\n    .dataframe thead th {\n        text-align: right;\n    }\n</style>\n<table border=\"1\" class=\"dataframe\">\n  <thead>\n    <tr style=\"text-align: right;\">\n      <th></th>\n      <th>CRIM</th>\n      <th>ZN</th>\n      <th>INDUS</th>\n      <th>CHAS</th>\n      <th>NOX</th>\n      <th>RM</th>\n      <th>AGE</th>\n      <th>DIS</th>\n      <th>RAD</th>\n      <th>TAX</th>\n      <th>PTRATIO</th>\n      <th>B</th>\n      <th>LSTAT</th>\n      <th>MEDV</th>\n    </tr>\n  </thead>\n  <tbody>\n    <tr>\n      <th>count</th>\n      <td>506.000000</td>\n      <td>506.000000</td>\n      <td>506.000000</td>\n      <td>506.000000</td>\n      <td>506.000000</td>\n      <td>506.000000</td>\n      <td>506.000000</td>\n      <td>506.000000</td>\n      <td>506.000000</td>\n      <td>506.000000</td>\n      <td>506.000000</td>\n      <td>506.000000</td>\n      <td>506.000000</td>\n      <td>506.000000</td>\n    </tr>\n    <tr>\n      <th>mean</th>\n      <td>1.716290</td>\n      <td>11.363636</td>\n      <td>11.136779</td>\n      <td>0.069170</td>\n      <td>0.554695</td>\n      <td>6.284634</td>\n      <td>68.574901</td>\n      <td>3.795043</td>\n      <td>9.549407</td>\n      <td>408.237154</td>\n      <td>18.455534</td>\n      <td>356.674032</td>\n      <td>12.653063</td>\n      <td>22.532806</td>\n    </tr>\n    <tr>\n      <th>std</th>\n      <td>2.653510</td>\n      <td>23.322453</td>\n      <td>6.860353</td>\n      <td>0.253994</td>\n      <td>0.115878</td>\n      <td>0.702617</td>\n      <td>28.148861</td>\n      <td>2.105710</td>\n      <td>8.707259</td>\n      <td>168.537116</td>\n      <td>2.164946</td>\n      <td>91.294864</td>\n      <td>7.141062</td>\n      <td>9.197104</td>\n    </tr>\n    <tr>\n      <th>min</th>\n      <td>0.006320</td>\n      <td>0.000000</td>\n      <td>0.460000</td>\n      <td>0.000000</td>\n      <td>0.385000</td>\n      <td>3.561000</td>\n      <td>2.900000</td>\n      <td>1.129600</td>\n      <td>1.000000</td>\n      <td>187.000000</td>\n      <td>12.600000</td>\n      <td>0.320000</td>\n      <td>1.730000</td>\n      <td>5.000000</td>\n    </tr>\n    <tr>\n      <th>25%</th>\n      <td>0.081900</td>\n      <td>0.000000</td>\n      <td>5.190000</td>\n      <td>0.000000</td>\n      <td>0.449000</td>\n      <td>5.885500</td>\n      <td>45.025000</td>\n      <td>2.100175</td>\n      <td>4.000000</td>\n      <td>279.000000</td>\n      <td>17.400000</td>\n      <td>375.377500</td>\n      <td>6.950000</td>\n      <td>17.025000</td>\n    </tr>\n    <tr>\n      <th>50%</th>\n      <td>0.250895</td>\n      <td>0.000000</td>\n      <td>9.690000</td>\n      <td>0.000000</td>\n      <td>0.538000</td>\n      <td>6.208500</td>\n      <td>77.500000</td>\n      <td>3.207450</td>\n      <td>5.000000</td>\n      <td>330.000000</td>\n      <td>19.050000</td>\n      <td>391.440000</td>\n      <td>11.360000</td>\n      <td>21.200000</td>\n    </tr>\n    <tr>\n      <th>75%</th>\n      <td>2.326718</td>\n      <td>12.500000</td>\n      <td>18.100000</td>\n      <td>0.000000</td>\n      <td>0.624000</td>\n      <td>6.623500</td>\n      <td>94.075000</td>\n      <td>5.188425</td>\n      <td>24.000000</td>\n      <td>666.000000</td>\n      <td>20.200000</td>\n      <td>396.225000</td>\n      <td>16.955000</td>\n      <td>25.000000</td>\n    </tr>\n    <tr>\n      <th>max</th>\n      <td>9.966540</td>\n      <td>100.000000</td>\n      <td>27.740000</td>\n      <td>1.000000</td>\n      <td>0.871000</td>\n      <td>8.780000</td>\n      <td>100.000000</td>\n      <td>12.126500</td>\n      <td>24.000000</td>\n      <td>711.000000</td>\n      <td>22.000000</td>\n      <td>396.900000</td>\n      <td>37.970000</td>\n      <td>50.000000</td>\n    </tr>\n  </tbody>\n</table>\n</div>"
     },
     "metadata": {},
     "output_type": "execute_result",
     "execution_count": 4
    }
   ],
   "source": [
    "dataset.describe()"
   ]
  },
  {
   "cell_type": "markdown",
   "metadata": {},
   "source": [
    "\n",
    "Plot some of the Data"
   ]
  },
  {
   "cell_type": "code",
   "execution_count": 5,
   "metadata": {
    "pycharm": {
     "is_executing": false,
     "name": "#%%\n"
    }
   },
   "outputs": [
    {
     "data": {
      "text/plain": "<Figure size 432x288 with 1 Axes>",
      "image/png": "[encoded data removed]"
     },
     "metadata": {
      "needs_background": "light"
     },
     "output_type": "display_data"
    }
   ],
   "source": [
    "dataset.plot(x='CRIM', y='MEDV', style='o')\n",
    "plt.title('Crime vs Prices')\n",
    "plt.xlabel('Crime')\n",
    "plt.ylabel('Price')\n",
    "plt.show()"
   ]
  },
  {
   "cell_type": "code",
   "execution_count": 6,
   "metadata": {
    "pycharm": {
     "is_executing": false,
     "name": "#%%\n"
    }
   },
   "outputs": [
    {
     "data": {
      "text/plain": "<matplotlib.axes._subplots.AxesSubplot at 0x232771129c8>"
     },
     "metadata": {},
     "output_type": "execute_result",
     "execution_count": 6
    },
    {
     "data": {
      "text/plain": "<Figure size 1080x720 with 1 Axes>",
      "image/png": "[encoded data removed]"
     },
     "metadata": {
      "needs_background": "light"
     },
     "output_type": "display_data"
    }
   ],
   "source": [
    "plt.figure(figsize=(15,10))\n",
    "plt.tight_layout()\n",
    "seabornInstance.distplot(dataset['CRIM'])"
   ]
  },
  {
   "cell_type": "markdown",
   "metadata": {
    "pycharm": {
     "name": "#%% md\n"
    }
   },
   "source": [
    "\n",
    "# Linear Regression\n",
    "First we train a linear regression model to predict Price of house based on per capita crime rate\n",
    "\n",
    "Our next step is to divide the data into “attributes” and “labels”."
   ]
  },
  {
   "cell_type": "code",
   "execution_count": 7,
   "metadata": {
    "pycharm": {
     "is_executing": false,
     "name": "#%%\n"
    }
   },
   "outputs": [],
   "source": [
    "X = dataset['CRIM'].values.reshape(-1,1)\n",
    "y = dataset['MEDV'].values.reshape(-1,1)"
   ]
  },
  {
   "cell_type": "markdown",
   "metadata": {},
   "source": [
    "Next, we split 80% of the data to the training set while 20% of the data to test set"
   ]
  },
  {
   "cell_type": "code",
   "execution_count": 8,
   "metadata": {
    "pycharm": {
     "is_executing": false,
     "name": "#%%\n"
    }
   },
   "outputs": [],
   "source": [
    "X_train, X_test, y_train, y_test = train_test_split(X, y, test_size=0.2, random_state=50)"
   ]
  },
  {
   "cell_type": "markdown",
   "metadata": {},
   "source": [
    "\n",
    "Finally we train our linear regression algorithm\n",
    "First we import and instantiate LinearRegression class"
   ]
  },
  {
   "cell_type": "code",
   "execution_count": 9,
   "metadata": {
    "pycharm": {
     "is_executing": false,
     "name": "#%%\n"
    }
   },
   "outputs": [
    {
     "data": {
      "text/plain": "LinearRegression(copy_X=True, fit_intercept=True, n_jobs=None, normalize=False)"
     },
     "metadata": {},
     "output_type": "execute_result",
     "execution_count": 9
    }
   ],
   "source": [
    "regressor = LinearRegression()\n",
    "regressor.fit(X_train, y_train) #training the algorithm"
   ]
  },
  {
   "cell_type": "markdown",
   "metadata": {
    "pycharm": {
     "name": "#%% md\n"
    }
   },
   "source": [
    "We find out the slope and intercept of our trained algorithm"
   ]
  },
  {
   "cell_type": "code",
   "execution_count": 10,
   "metadata": {
    "pycharm": {
     "is_executing": false,
     "name": "#%%\n"
    }
   },
   "outputs": [
    {
     "name": "stdout",
     "text": [
      "[24.9662643]\n[[-1.36402213]]\n"
     ],
     "output_type": "stream"
    }
   ],
   "source": [
    "print(regressor.intercept_)\n",
    "print(regressor.coef_)"
   ]
  },
  {
   "cell_type": "markdown",
   "metadata": {},
   "source": [
    "\n",
    "Now we make some predictions"
   ]
  },
  {
   "cell_type": "code",
   "execution_count": 11,
   "metadata": {
    "pycharm": {
     "is_executing": false,
     "name": "#%%\n"
    }
   },
   "outputs": [],
   "source": [
    "y_pred = regressor.predict(X_test)"
   ]
  },
  {
   "cell_type": "markdown",
   "metadata": {},
   "source": [
    "Now compare the actual output values for X_test with the predicted values"
   ]
  },
  {
   "cell_type": "code",
   "execution_count": 12,
   "metadata": {
    "pycharm": {
     "is_executing": false,
     "name": "#%%\n"
    }
   },
   "outputs": [
    {
     "data": {
      "text/plain": "     Actual  Predicted\n0      27.5  18.751957\n1      21.6  24.598824\n2      17.7  19.928781\n3      24.3  23.134601\n4      22.2  24.896931\n..      ...        ...\n97     36.1  24.891038\n98     14.2  15.387296\n99     18.3  24.600188\n100    23.5  24.917378\n101    22.2  24.868723\n\n[102 rows x 2 columns]",
      "text/html": "<div>\n<style scoped>\n    .dataframe tbody tr th:only-of-type {\n        vertical-align: middle;\n    }\n\n    .dataframe tbody tr th {\n        vertical-align: top;\n    }\n\n    .dataframe thead th {\n        text-align: right;\n    }\n</style>\n<table border=\"1\" class=\"dataframe\">\n  <thead>\n    <tr style=\"text-align: right;\">\n      <th></th>\n      <th>Actual</th>\n      <th>Predicted</th>\n    </tr>\n  </thead>\n  <tbody>\n    <tr>\n      <th>0</th>\n      <td>27.5</td>\n      <td>18.751957</td>\n    </tr>\n    <tr>\n      <th>1</th>\n      <td>21.6</td>\n      <td>24.598824</td>\n    </tr>\n    <tr>\n      <th>2</th>\n      <td>17.7</td>\n      <td>19.928781</td>\n    </tr>\n    <tr>\n      <th>3</th>\n      <td>24.3</td>\n      <td>23.134601</td>\n    </tr>\n    <tr>\n      <th>4</th>\n      <td>22.2</td>\n      <td>24.896931</td>\n    </tr>\n    <tr>\n      <th>...</th>\n      <td>...</td>\n      <td>...</td>\n    </tr>\n    <tr>\n      <th>97</th>\n      <td>36.1</td>\n      <td>24.891038</td>\n    </tr>\n    <tr>\n      <th>98</th>\n      <td>14.2</td>\n      <td>15.387296</td>\n    </tr>\n    <tr>\n      <th>99</th>\n      <td>18.3</td>\n      <td>24.600188</td>\n    </tr>\n    <tr>\n      <th>100</th>\n      <td>23.5</td>\n      <td>24.917378</td>\n    </tr>\n    <tr>\n      <th>101</th>\n      <td>22.2</td>\n      <td>24.868723</td>\n    </tr>\n  </tbody>\n</table>\n<p>102 rows × 2 columns</p>\n</div>"
     },
     "metadata": {},
     "output_type": "execute_result",
     "execution_count": 12
    }
   ],
   "source": [
    "df = pd.DataFrame({'Actual': y_test.flatten(), 'Predicted':y_pred.flatten()})\n",
    "df"
   ]
  },
  {
   "cell_type": "markdown",
   "metadata": {},
   "source": [
    "We can also visualize comparison result as a bar graph using the below script "
   ]
  },
  {
   "cell_type": "code",
   "execution_count": 13,
   "metadata": {
    "pycharm": {
     "is_executing": false,
     "name": "#%%\n"
    }
   },
   "outputs": [
    {
     "data": {
      "text/plain": "<Figure size 1152x648 with 1 Axes>",
      "image/png": "[encoded data removed]"
     },
     "metadata": {
      "needs_background": "light"
     },
     "output_type": "display_data"
    }
   ],
   "source": [
    "df.head(25).plot(kind='bar', figsize=(16,9))\n",
    "plt.grid(which='major', linestyle='-', linewidth='.5', color='green')\n",
    "plt.grid(which='minor', linestyle=':', linewidth='.5', color='black')\n",
    "plt.show()"
   ]
  },
  {
   "cell_type": "markdown",
   "metadata": {},
   "source": [
    "Let's plot our straight line with the test data :"
   ]
  },
  {
   "cell_type": "code",
   "execution_count": 14,
   "metadata": {
    "pycharm": {
     "is_executing": false,
     "name": "#%%\n"
    }
   },
   "outputs": [
    {
     "data": {
      "text/plain": "<Figure size 432x288 with 1 Axes>",
      "image/png": "[encoded data removed]"
     },
     "metadata": {
      "needs_background": "light"
     },
     "output_type": "display_data"
    }
   ],
   "source": [
    "plt.scatter(X_test, y_test, color='gray')\n",
    "plt.plot(X_test, y_pred,color='red', linewidth=2)\n",
    "plt.show()"
   ]
  },
  {
   "cell_type": "markdown",
   "metadata": {
    "pycharm": {
     "is_executing": false,
     "name": "#%% md\n"
    }
   },
   "source": [
    "The final step is to evaluate the performance of the algorithm.\n",
    "This step is particularly important to compare how well \n",
    "different algorithms perform on a particular dataset.\n",
    "For regression algorithms, three evaluation metrics are commonly used\n",
    "\n",
    "1.)Mean Absolute Error\n",
    "2.)Mean Squared Error\n",
    "3.)Root Mean Squared Error"
   ]
  },
  {
   "cell_type": "code",
   "execution_count": 15,
   "metadata": {
    "pycharm": {
     "is_executing": false,
     "name": "#%%\n"
    }
   },
   "outputs": [
    {
     "name": "stdout",
     "text": [
      "Mean Absolute Error: 5.977422486468945\nMean Squared Error: 75.70047123507385\nRoot Mean Squared Error: 8.700601774306985\n"
     ],
     "output_type": "stream"
    }
   ],
   "source": [
    "print('Mean Absolute Error:', metrics.mean_absolute_error(y_test, y_pred))  \n",
    "print('Mean Squared Error:', metrics.mean_squared_error(y_test, y_pred))  \n",
    "print('Root Mean Squared Error:', np.sqrt(metrics.mean_squared_error(y_test, y_pred)))"
   ]
  },
  {
   "cell_type": "code",
   "execution_count": 16,
   "metadata": {
    "pycharm": {
     "is_executing": false,
     "name": "#%%\n"
    }
   },
   "outputs": [
    {
     "name": "stdout",
     "text": [
      "Mean value of house prices 22.532806324110677\nMedian value of house prices 21.2\n"
     ],
     "output_type": "stream"
    }
   ],
   "source": [
    "#mean value of prices\n",
    "print(\"Mean value of house prices\", np.mean(y))\n",
    "print(\"Median value of house prices\", np.median(y))"
   ]
  },
  {
   "cell_type": "markdown",
   "metadata": {},
   "source": [
    "As we can see Root Mean Squared Error is 9.35 which is about 40% of Mean of the dependent Variable\n",
    "Meaning our model is not accurate\n",
    "\n"
   ]
  },
  {
   "cell_type": "markdown",
   "metadata": {},
   "source": [
    "\n",
    "# Multiple Linear Regression\n",
    " Linear regression involving multiple variables is called “multiple linear regression” or multivariate linear regression\n",
    " The steps to perform multiple linear regression are almost similar to that of simple linear regression.\n",
    " \n",
    " Let us clean our data little bit, So first check which are the columns the contains NaN values in it"
   ]
  },
  {
   "cell_type": "code",
   "execution_count": 17,
   "metadata": {
    "pycharm": {
     "is_executing": false,
     "name": "#%%\n"
    }
   },
   "outputs": [
    {
     "data": {
      "text/plain": "CRIM       False\nZN         False\nINDUS      False\nCHAS       False\nNOX        False\nRM         False\nAGE        False\nDIS        False\nRAD        False\nTAX        False\nPTRATIO    False\nB          False\nLSTAT      False\nMEDV       False\ndtype: bool"
     },
     "metadata": {},
     "output_type": "execute_result",
     "execution_count": 17
    }
   ],
   "source": [
    "dataset.isnull().any()\n",
    "#Once the above code is executed, all the columns should give False, In case for any column you find True result, then \n",
    "# remove all the null values from that column using below code\n",
    "#dataset = dataset.fillna(method='ffill')"
   ]
  },
  {
   "cell_type": "markdown",
   "metadata": {},
   "source": [
    "Our next step is to divide the data into “attributes” and “labels”."
   ]
  },
  {
   "cell_type": "code",
   "execution_count": 18,
   "metadata": {
    "pycharm": {
     "is_executing": false,
     "name": "#%%\n"
    }
   },
   "outputs": [
    {
     "name": "stdout",
     "text": [
      "Boston housing dataset has 506 data points with 14 variables each.\n"
     ],
     "output_type": "stream"
    }
   ],
   "source": [
    "#X = dataset[['CRIM', 'ZN', 'INDUS', 'CHAS', 'NOX', 'RM', 'AGE', 'DIS', 'RAD', 'TAX', 'PTRATIO', 'B', 'LSTAT']].values\n",
    "X = dataset.drop('MEDV', axis=1)\n",
    "y = dataset['MEDV'].values\n",
    "print(\"Boston housing dataset has {} data points with {} variables each.\".format(*dataset.shape))"
   ]
  },
  {
   "cell_type": "markdown",
   "metadata": {},
   "source": [
    "Lets see some distributions"
   ]
  },
  {
   "cell_type": "code",
   "execution_count": 19,
   "metadata": {
    "pycharm": {
     "is_executing": false,
     "name": "#%%\n"
    }
   },
   "outputs": [
    {
     "data": {
      "text/plain": "<matplotlib.axes._subplots.AxesSubplot at 0x232777de748>"
     },
     "metadata": {},
     "output_type": "execute_result",
     "execution_count": 19
    },
    {
     "data": {
      "text/plain": "<Figure size 1080x720 with 1 Axes>",
      "image/png": "[encoded data removed]"
     },
     "metadata": {
      "needs_background": "light"
     },
     "output_type": "display_data"
    }
   ],
   "source": [
    "plt.figure(figsize=(15,10))\n",
    "plt.tight_layout()\n",
    "seabornInstance.distplot(dataset['NOX'])"
   ]
  },
  {
   "cell_type": "markdown",
   "metadata": {},
   "source": [
    "\n",
    "Now we split data inti traaining and testing sets"
   ]
  },
  {
   "cell_type": "code",
   "execution_count": 20,
   "metadata": {
    "pycharm": {
     "is_executing": false,
     "name": "#%%\n"
    }
   },
   "outputs": [],
   "source": [
    "X_train, X_test, y_train, y_test = train_test_split(X, y, test_size=0.2, random_state=0)"
   ]
  },
  {
   "cell_type": "markdown",
   "metadata": {},
   "source": [
    "Now let's Train our Model"
   ]
  },
  {
   "cell_type": "code",
   "execution_count": 21,
   "metadata": {
    "pycharm": {
     "is_executing": false,
     "name": "#%%\n"
    }
   },
   "outputs": [
    {
     "data": {
      "text/plain": "LinearRegression(copy_X=True, fit_intercept=True, n_jobs=None, normalize=False)"
     },
     "metadata": {},
     "output_type": "execute_result",
     "execution_count": 21
    }
   ],
   "source": [
    "m_regressor = LinearRegression()\n",
    "m_regressor.fit(X_train, y_train)"
   ]
  },
  {
   "cell_type": "markdown",
   "metadata": {},
   "source": [
    "in the case of multivariable linear regression, the regression model has to find the most optimal coefficients for all \n",
    "the attributes. To see what coefficients our regression model has chosen, execute the following script"
   ]
  },
  {
   "cell_type": "code",
   "execution_count": 22,
   "metadata": {
    "pycharm": {
     "is_executing": false,
     "name": "#%%\n"
    }
   },
   "outputs": [
    {
     "data": {
      "text/plain": "         Coefficient\nCRIM       -0.307943\nZN          0.042308\nINDUS       0.018916\nCHAS        2.476545\nNOX       -14.359647\nRM          3.751351\nAGE        -0.000445\nDIS        -1.294458\nRAD         0.248268\nTAX        -0.010794\nPTRATIO    -1.039052\nB           0.008254\nLSTAT      -0.523072",
      "text/html": "<div>\n<style scoped>\n    .dataframe tbody tr th:only-of-type {\n        vertical-align: middle;\n    }\n\n    .dataframe tbody tr th {\n        vertical-align: top;\n    }\n\n    .dataframe thead th {\n        text-align: right;\n    }\n</style>\n<table border=\"1\" class=\"dataframe\">\n  <thead>\n    <tr style=\"text-align: right;\">\n      <th></th>\n      <th>Coefficient</th>\n    </tr>\n  </thead>\n  <tbody>\n    <tr>\n      <th>CRIM</th>\n      <td>-0.307943</td>\n    </tr>\n    <tr>\n      <th>ZN</th>\n      <td>0.042308</td>\n    </tr>\n    <tr>\n      <th>INDUS</th>\n      <td>0.018916</td>\n    </tr>\n    <tr>\n      <th>CHAS</th>\n      <td>2.476545</td>\n    </tr>\n    <tr>\n      <th>NOX</th>\n      <td>-14.359647</td>\n    </tr>\n    <tr>\n      <th>RM</th>\n      <td>3.751351</td>\n    </tr>\n    <tr>\n      <th>AGE</th>\n      <td>-0.000445</td>\n    </tr>\n    <tr>\n      <th>DIS</th>\n      <td>-1.294458</td>\n    </tr>\n    <tr>\n      <th>RAD</th>\n      <td>0.248268</td>\n    </tr>\n    <tr>\n      <th>TAX</th>\n      <td>-0.010794</td>\n    </tr>\n    <tr>\n      <th>PTRATIO</th>\n      <td>-1.039052</td>\n    </tr>\n    <tr>\n      <th>B</th>\n      <td>0.008254</td>\n    </tr>\n    <tr>\n      <th>LSTAT</th>\n      <td>-0.523072</td>\n    </tr>\n  </tbody>\n</table>\n</div>"
     },
     "metadata": {},
     "output_type": "execute_result",
     "execution_count": 22
    }
   ],
   "source": [
    "coeff_df = pd.DataFrame(m_regressor.coef_, X.columns, columns=['Coefficient'])\n",
    "coeff_df"
   ]
  },
  {
   "cell_type": "markdown",
   "metadata": {},
   "source": [
    "Now lets do predictions on our test dataset"
   ]
  },
  {
   "cell_type": "code",
   "execution_count": 23,
   "metadata": {
    "pycharm": {
     "is_executing": false,
     "name": "#%%\n"
    }
   },
   "outputs": [],
   "source": [
    "y_pred = m_regressor.predict(X_test)"
   ]
  },
  {
   "cell_type": "markdown",
   "metadata": {},
   "source": [
    "Check the difference between the actual value and predicted value."
   ]
  },
  {
   "cell_type": "code",
   "execution_count": 24,
   "metadata": {
    "pycharm": {
     "is_executing": false,
     "name": "#%%\n"
    }
   },
   "outputs": [
    {
     "data": {
      "text/plain": "    Actual  Predicted\n0     22.6  24.882042\n1     50.0  22.415103\n2     23.0  29.696396\n3      8.3  13.845242\n4     21.2  21.461861\n5     19.9  19.364591\n6     20.6  19.923117\n7     18.7  21.466239\n8     16.1  18.213598\n9     18.6  19.902149\n10     8.8  13.001521\n11    17.2  16.841666\n12    14.9  16.340370\n13    10.5   7.107493\n14    50.0  40.404289\n15    29.0  32.503837\n16    23.0  21.701265\n17    33.3  36.852686\n18    29.4  30.854768\n19    21.0  23.123625\n20    23.8  24.900238\n21    19.1  24.489073\n22    20.4  20.461998\n23    29.1  30.190055\n24    19.3  22.306964\n25    23.1  10.979298\n26    19.6  17.572624\n27    19.4  18.390917\n28    38.7  35.625269\n29    18.7  20.844970",
      "text/html": "<div>\n<style scoped>\n    .dataframe tbody tr th:only-of-type {\n        vertical-align: middle;\n    }\n\n    .dataframe tbody tr th {\n        vertical-align: top;\n    }\n\n    .dataframe thead th {\n        text-align: right;\n    }\n</style>\n<table border=\"1\" class=\"dataframe\">\n  <thead>\n    <tr style=\"text-align: right;\">\n      <th></th>\n      <th>Actual</th>\n      <th>Predicted</th>\n    </tr>\n  </thead>\n  <tbody>\n    <tr>\n      <th>0</th>\n      <td>22.6</td>\n      <td>24.882042</td>\n    </tr>\n    <tr>\n      <th>1</th>\n      <td>50.0</td>\n      <td>22.415103</td>\n    </tr>\n    <tr>\n      <th>2</th>\n      <td>23.0</td>\n      <td>29.696396</td>\n    </tr>\n    <tr>\n      <th>3</th>\n      <td>8.3</td>\n      <td>13.845242</td>\n    </tr>\n    <tr>\n      <th>4</th>\n      <td>21.2</td>\n      <td>21.461861</td>\n    </tr>\n    <tr>\n      <th>5</th>\n      <td>19.9</td>\n      <td>19.364591</td>\n    </tr>\n    <tr>\n      <th>6</th>\n      <td>20.6</td>\n      <td>19.923117</td>\n    </tr>\n    <tr>\n      <th>7</th>\n      <td>18.7</td>\n      <td>21.466239</td>\n    </tr>\n    <tr>\n      <th>8</th>\n      <td>16.1</td>\n      <td>18.213598</td>\n    </tr>\n    <tr>\n      <th>9</th>\n      <td>18.6</td>\n      <td>19.902149</td>\n    </tr>\n    <tr>\n      <th>10</th>\n      <td>8.8</td>\n      <td>13.001521</td>\n    </tr>\n    <tr>\n      <th>11</th>\n      <td>17.2</td>\n      <td>16.841666</td>\n    </tr>\n    <tr>\n      <th>12</th>\n      <td>14.9</td>\n      <td>16.340370</td>\n    </tr>\n    <tr>\n      <th>13</th>\n      <td>10.5</td>\n      <td>7.107493</td>\n    </tr>\n    <tr>\n      <th>14</th>\n      <td>50.0</td>\n      <td>40.404289</td>\n    </tr>\n    <tr>\n      <th>15</th>\n      <td>29.0</td>\n      <td>32.503837</td>\n    </tr>\n    <tr>\n      <th>16</th>\n      <td>23.0</td>\n      <td>21.701265</td>\n    </tr>\n    <tr>\n      <th>17</th>\n      <td>33.3</td>\n      <td>36.852686</td>\n    </tr>\n    <tr>\n      <th>18</th>\n      <td>29.4</td>\n      <td>30.854768</td>\n    </tr>\n    <tr>\n      <th>19</th>\n      <td>21.0</td>\n      <td>23.123625</td>\n    </tr>\n    <tr>\n      <th>20</th>\n      <td>23.8</td>\n      <td>24.900238</td>\n    </tr>\n    <tr>\n      <th>21</th>\n      <td>19.1</td>\n      <td>24.489073</td>\n    </tr>\n    <tr>\n      <th>22</th>\n      <td>20.4</td>\n      <td>20.461998</td>\n    </tr>\n    <tr>\n      <th>23</th>\n      <td>29.1</td>\n      <td>30.190055</td>\n    </tr>\n    <tr>\n      <th>24</th>\n      <td>19.3</td>\n      <td>22.306964</td>\n    </tr>\n    <tr>\n      <th>25</th>\n      <td>23.1</td>\n      <td>10.979298</td>\n    </tr>\n    <tr>\n      <th>26</th>\n      <td>19.6</td>\n      <td>17.572624</td>\n    </tr>\n    <tr>\n      <th>27</th>\n      <td>19.4</td>\n      <td>18.390917</td>\n    </tr>\n    <tr>\n      <th>28</th>\n      <td>38.7</td>\n      <td>35.625269</td>\n    </tr>\n    <tr>\n      <th>29</th>\n      <td>18.7</td>\n      <td>20.844970</td>\n    </tr>\n  </tbody>\n</table>\n</div>"
     },
     "metadata": {},
     "output_type": "execute_result",
     "execution_count": 24
    }
   ],
   "source": [
    "m_df = pd.DataFrame({'Actual':y_test, 'Predicted':y_pred})\n",
    "m_df1 = m_df.head(30)\n",
    "m_df1"
   ]
  },
  {
   "cell_type": "markdown",
   "metadata": {},
   "source": [
    "lets plot the comparison"
   ]
  },
  {
   "cell_type": "code",
   "execution_count": 25,
   "metadata": {
    "pycharm": {
     "is_executing": false,
     "name": "#%%\n"
    }
   },
   "outputs": [
    {
     "data": {
      "text/plain": "<Figure size 1152x648 with 1 Axes>",
      "image/png": "[encoded data removed]"
     },
     "metadata": {
      "needs_background": "light"
     },
     "output_type": "display_data"
    }
   ],
   "source": [
    "m_df1.plot(kind='bar',figsize=(16,9))\n",
    "plt.grid(which='major', linestyle='-', linewidth='0.5', color='green')\n",
    "plt.grid(which='minor', linestyle=':', linewidth='0.5', color='black')\n",
    "plt.show()"
   ]
  },
  {
   "cell_type": "markdown",
   "metadata": {},
   "source": [
    "From the graph we can see that our predictions are good enough but has several outliers\n",
    "We Calculate MAE, MSE, RMSE"
   ]
  },
  {
   "cell_type": "code",
   "execution_count": 26,
   "metadata": {
    "pycharm": {
     "is_executing": false,
     "name": "#%%\n"
    }
   },
   "outputs": [
    {
     "name": "stdout",
     "text": [
      "Mean Absolute Error: 3.8566274452600546\nMean Squared Error: 34.79096495811129\nRoot Mean Squared Error: 5.898386640269633\n"
     ],
     "output_type": "stream"
    }
   ],
   "source": [
    "print('Mean Absolute Error:', metrics.mean_absolute_error(y_test, y_pred))  \n",
    "print('Mean Squared Error:', metrics.mean_squared_error(y_test, y_pred))  \n",
    "print('Root Mean Squared Error:', np.sqrt(metrics.mean_squared_error(y_test, y_pred)))"
   ]
  },
  {
   "cell_type": "code",
   "execution_count": 27,
   "metadata": {
    "pycharm": {
     "is_executing": false,
     "name": "#%%\n"
    }
   },
   "outputs": [
    {
     "name": "stdout",
     "text": [
      "Mean value of house prices 22.532806324110677\nMedian value of house prices 21.2\n"
     ],
     "output_type": "stream"
    }
   ],
   "source": [
    "#mean value of prices\n",
    "print(\"Mean value of house prices\", np.mean(y))\n",
    "print(\"Median value of house prices\", np.median(y))"
   ]
  },
  {
   "cell_type": "markdown",
   "metadata": {},
   "source": [
    "As we can see RMSE is about 20% of the mean of dependent variable\n",
    "This means that our algorithm was not very accurate but can still make reasonably good predictions.\n"
   ]
  },
  {
   "cell_type": "markdown",
   "metadata": {},
   "source": [
    "# Selecting Features\n",
    "As we can see in using crime to train and predict house prices\n",
    "our error was very large, \n",
    "And we see from thee graph that an exponential function would better suffice"
   ]
  },
  {
   "cell_type": "code",
   "execution_count": 28,
   "metadata": {
    "pycharm": {
     "is_executing": false
    }
   },
   "outputs": [
    {
     "data": {
      "text/plain": "array([6.32000e-03, 2.73100e-02, 2.72900e-02, 3.23700e-02, 6.90500e-02,\n       2.98500e-02, 8.82900e-02, 1.44550e-01, 2.11240e-01, 1.70040e-01,\n       2.24890e-01, 1.17470e-01, 9.37800e-02, 6.29760e-01, 6.37960e-01,\n       6.27390e-01, 1.05393e+00, 7.84200e-01, 8.02710e-01, 7.25800e-01,\n       1.25179e+00, 8.52040e-01, 1.23247e+00, 9.88430e-01, 7.50260e-01,\n       8.40540e-01, 6.71910e-01, 9.55770e-01, 7.72990e-01, 1.00245e+00,\n       1.13081e+00, 1.35472e+00, 1.38799e+00, 1.15172e+00, 1.61282e+00,\n       6.41700e-02, 9.74400e-02, 8.01400e-02, 1.75050e-01, 2.76300e-02,\n       3.35900e-02, 1.27440e-01, 1.41500e-01, 1.59360e-01, 1.22690e-01,\n       1.71420e-01, 1.88360e-01, 2.29270e-01, 2.53870e-01, 2.19770e-01,\n       8.87300e-02, 4.33700e-02, 5.36000e-02, 4.98100e-02, 1.36000e-02,\n       1.31100e-02, 2.05500e-02, 1.43200e-02, 1.54450e-01, 1.03280e-01,\n       1.49320e-01, 1.71710e-01, 1.10270e-01, 1.26500e-01, 1.95100e-02,\n       3.58400e-02, 4.37900e-02, 5.78900e-02, 1.35540e-01, 1.28160e-01,\n       8.82600e-02, 1.58760e-01, 9.16400e-02, 1.95390e-01, 7.89600e-02,\n       9.51200e-02, 1.01530e-01, 8.70700e-02, 5.64600e-02, 8.38700e-02,\n       4.11300e-02, 4.46200e-02, 3.65900e-02, 3.55100e-02, 5.05900e-02,\n       5.73500e-02, 5.18800e-02, 7.15100e-02, 5.66000e-02, 5.30200e-02,\n       4.68400e-02, 3.93200e-02, 4.20300e-02, 2.87500e-02, 4.29400e-02,\n       1.22040e-01, 1.15040e-01, 1.20830e-01, 8.18700e-02, 6.86000e-02,\n       1.48660e-01, 1.14320e-01, 2.28760e-01, 2.11610e-01, 1.39600e-01,\n       1.32620e-01, 1.71200e-01, 1.31170e-01, 1.28020e-01, 2.63630e-01,\n       1.07930e-01, 1.00840e-01, 1.23290e-01, 2.22120e-01, 1.42310e-01,\n       1.71340e-01, 1.31580e-01, 1.50980e-01, 1.30580e-01, 1.44760e-01,\n       6.89900e-02, 7.16500e-02, 9.29900e-02, 1.50380e-01, 9.84900e-02,\n       1.69020e-01, 3.87350e-01, 2.59150e-01, 3.25430e-01, 8.81250e-01,\n       3.40060e-01, 1.19294e+00, 5.90050e-01, 3.29820e-01, 9.76170e-01,\n       5.57780e-01, 3.22640e-01, 3.52330e-01, 2.49800e-01, 5.44520e-01,\n       2.90900e-01, 1.62864e+00, 3.32105e+00, 4.09740e+00, 2.77974e+00,\n       2.37934e+00, 2.15505e+00, 2.36862e+00, 2.33099e+00, 2.73397e+00,\n       1.65660e+00, 1.49632e+00, 1.12658e+00, 2.14918e+00, 1.41385e+00,\n       3.53501e+00, 2.44668e+00, 1.22358e+00, 1.34284e+00, 1.42502e+00,\n       1.27346e+00, 1.46336e+00, 1.83377e+00, 1.51902e+00, 2.24236e+00,\n       2.92400e+00, 2.01019e+00, 1.80028e+00, 2.30040e+00, 2.44953e+00,\n       1.20742e+00, 2.31390e+00, 1.39140e-01, 9.17800e-02, 8.44700e-02,\n       6.66400e-02, 7.02200e-02, 5.42500e-02, 6.64200e-02, 5.78000e-02,\n       6.58800e-02, 6.88800e-02, 9.10300e-02, 1.00080e-01, 8.30800e-02,\n       6.04700e-02, 5.60200e-02, 7.87500e-02, 1.25790e-01, 8.37000e-02,\n       9.06800e-02, 6.91100e-02, 8.66400e-02, 2.18700e-02, 1.43900e-02,\n       1.38100e-02, 4.01100e-02, 4.66600e-02, 3.76800e-02, 3.15000e-02,\n       1.77800e-02, 3.44500e-02, 2.17700e-02, 3.51000e-02, 2.00900e-02,\n       1.36420e-01, 2.29690e-01, 2.51990e-01, 1.35870e-01, 4.35710e-01,\n       1.74460e-01, 3.75780e-01, 2.17190e-01, 1.40520e-01, 2.89550e-01,\n       1.98020e-01, 4.56000e-02, 7.01300e-02, 1.10690e-01, 1.14250e-01,\n       3.58090e-01, 4.07710e-01, 6.23560e-01, 6.14700e-01, 3.15330e-01,\n       5.26930e-01, 3.82140e-01, 4.12380e-01, 2.98190e-01, 4.41780e-01,\n       5.37000e-01, 4.62960e-01, 5.75290e-01, 3.31470e-01, 4.47910e-01,\n       3.30450e-01, 5.20580e-01, 5.11830e-01, 8.24400e-02, 9.25200e-02,\n       1.13290e-01, 1.06120e-01, 1.02900e-01, 1.27570e-01, 2.06080e-01,\n       1.91330e-01, 3.39830e-01, 1.96570e-01, 1.64390e-01, 1.90730e-01,\n       1.40300e-01, 2.14090e-01, 8.22100e-02, 3.68940e-01, 4.81900e-02,\n       3.54800e-02, 1.53800e-02, 6.11540e-01, 6.63510e-01, 6.56650e-01,\n       5.40110e-01, 5.34120e-01, 5.20140e-01, 8.25260e-01, 5.50070e-01,\n       7.61620e-01, 7.85700e-01, 5.78340e-01, 5.40500e-01, 9.06500e-02,\n       2.99160e-01, 1.62110e-01, 1.14600e-01, 2.21880e-01, 5.64400e-02,\n       9.60400e-02, 1.04690e-01, 6.12700e-02, 7.97800e-02, 2.10380e-01,\n       3.57800e-02, 3.70500e-02, 6.12900e-02, 1.50100e-02, 9.06000e-03,\n       1.09600e-02, 1.96500e-02, 3.87100e-02, 4.59000e-02, 4.29700e-02,\n       3.50200e-02, 7.88600e-02, 3.61500e-02, 8.26500e-02, 8.19900e-02,\n       1.29320e-01, 5.37200e-02, 1.41030e-01, 6.46600e-02, 5.56100e-02,\n       4.41700e-02, 3.53700e-02, 9.26600e-02, 1.00000e-01, 5.51500e-02,\n       5.47900e-02, 7.50300e-02, 4.93200e-02, 4.92980e-01, 3.49400e-01,\n       2.63548e+00, 7.90410e-01, 2.61690e-01, 2.69380e-01, 3.69200e-01,\n       2.53560e-01, 3.18270e-01, 2.45220e-01, 4.02020e-01, 4.75470e-01,\n       1.67600e-01, 1.81590e-01, 3.51140e-01, 2.83920e-01, 3.41090e-01,\n       1.91860e-01, 3.03470e-01, 2.41030e-01, 6.61700e-02, 6.72400e-02,\n       4.54400e-02, 5.02300e-02, 3.46600e-02, 5.08300e-02, 3.73800e-02,\n       3.96100e-02, 3.42700e-02, 3.04100e-02, 3.30600e-02, 5.49700e-02,\n       6.15100e-02, 1.30100e-02, 2.49800e-02, 2.54300e-02, 3.04900e-02,\n       3.11300e-02, 6.16200e-02, 1.87000e-02, 1.50100e-02, 2.89900e-02,\n       6.21100e-02, 7.95000e-02, 7.24400e-02, 1.70900e-02, 4.30100e-02,\n       1.06590e-01, 8.98296e+00, 3.84970e+00, 5.20177e+00, 4.26131e+00,\n       4.54192e+00, 3.83684e+00, 3.67822e+00, 4.22239e+00, 3.47428e+00,\n       4.55587e+00, 3.69695e+00, 3.52220e+00, 4.89822e+00, 5.66998e+00,\n       6.53876e+00, 9.23230e+00, 8.26725e+00, 1.10810e+00, 8.49820e+00,\n       9.60910e+00, 5.28800e+00, 9.82349e+00, 3.64820e+00, 7.86670e+00,\n       8.97620e+00, 5.87440e+00, 9.18702e+00, 7.99248e+00, 8.49000e-02,\n       6.81180e+00, 4.39380e+00, 2.59710e+00, 4.33370e+00, 8.15174e+00,\n       6.96215e+00, 5.29305e+00, 1.57790e+00, 8.64476e+00, 3.35980e+00,\n       8.71675e+00, 5.87205e+00, 7.67202e+00, 8.35180e+00, 9.91655e+00,\n       5.04610e+00, 4.23620e+00, 9.59571e+00, 4.80170e+00, 1.52920e+00,\n       7.92080e+00, 7.16200e-01, 1.95110e+00, 7.40389e+00, 4.43830e+00,\n       1.13580e+00, 4.05070e+00, 8.81100e+00, 8.65580e+00, 5.74610e+00,\n       8.08460e+00, 8.34200e-01, 5.94060e+00, 3.53410e+00, 1.81230e+00,\n       1.08740e+00, 7.02259e+00, 2.04820e+00, 7.05042e+00, 8.79212e+00,\n       5.86030e+00, 2.24720e+00, 7.66190e+00, 7.36711e+00, 9.33889e+00,\n       8.49213e+00, 6.23000e-02, 6.44405e+00, 5.58107e+00, 3.91340e+00,\n       1.16040e+00, 4.42080e+00, 5.17720e+00, 3.67810e+00, 9.39063e+00,\n       2.05110e+00, 9.72418e+00, 5.66637e+00, 9.96654e+00, 2.80230e+00,\n       6.71800e-01, 6.28807e+00, 9.92485e+00, 9.32909e+00, 7.52601e+00,\n       6.71772e+00, 5.44114e+00, 5.09017e+00, 8.24809e+00, 9.51363e+00,\n       4.75237e+00, 4.66883e+00, 8.20058e+00, 7.75223e+00, 6.80117e+00,\n       4.81213e+00, 3.69311e+00, 6.65492e+00, 5.82115e+00, 7.83932e+00,\n       3.16360e+00, 3.77498e+00, 4.42228e+00, 5.57570e+00, 3.07510e+00,\n       4.34879e+00, 4.03841e+00, 3.56868e+00, 4.64689e+00, 8.05579e+00,\n       6.39312e+00, 4.87141e+00, 5.02340e+00, 2.33000e-01, 4.33370e+00,\n       5.82401e+00, 5.70818e+00, 5.73116e+00, 2.81838e+00, 2.37857e+00,\n       3.67367e+00, 5.69175e+00, 4.83567e+00, 1.50860e-01, 1.83370e-01,\n       2.07460e-01, 1.05740e-01, 1.11320e-01, 1.73310e-01, 2.79570e-01,\n       1.78990e-01, 2.89600e-01, 2.68380e-01, 2.39120e-01, 1.77830e-01,\n       2.24380e-01, 6.26300e-02, 4.52700e-02, 6.07600e-02, 1.09590e-01,\n       4.74100e-02])"
     },
     "metadata": {},
     "output_type": "execute_result",
     "execution_count": 28
    }
   ],
   "source": [
    "crime = dataset['CRIM'].values\n",
    "crime"
   ]
  },
  {
   "cell_type": "code",
   "execution_count": 29,
   "metadata": {
    "pycharm": {
     "is_executing": false
    }
   },
   "outputs": [],
   "source": [
    "crime_i = pd.DataFrame(map(lambda x: 1/x, crime))"
   ]
  },
  {
   "cell_type": "code",
   "execution_count": 30,
   "metadata": {
    "pycharm": {
     "is_executing": false
    }
   },
   "outputs": [
    {
     "data": {
      "text/plain": "              0\n0    158.227848\n1     36.616624\n2     36.643459\n3     30.892802\n4     14.482259\n..          ...\n501   15.966789\n502   22.089684\n503   16.458196\n504    9.124920\n505   21.092596\n\n[506 rows x 1 columns]",
      "text/html": "<div>\n<style scoped>\n    .dataframe tbody tr th:only-of-type {\n        vertical-align: middle;\n    }\n\n    .dataframe tbody tr th {\n        vertical-align: top;\n    }\n\n    .dataframe thead th {\n        text-align: right;\n    }\n</style>\n<table border=\"1\" class=\"dataframe\">\n  <thead>\n    <tr style=\"text-align: right;\">\n      <th></th>\n      <th>0</th>\n    </tr>\n  </thead>\n  <tbody>\n    <tr>\n      <th>0</th>\n      <td>158.227848</td>\n    </tr>\n    <tr>\n      <th>1</th>\n      <td>36.616624</td>\n    </tr>\n    <tr>\n      <th>2</th>\n      <td>36.643459</td>\n    </tr>\n    <tr>\n      <th>3</th>\n      <td>30.892802</td>\n    </tr>\n    <tr>\n      <th>4</th>\n      <td>14.482259</td>\n    </tr>\n    <tr>\n      <th>...</th>\n      <td>...</td>\n    </tr>\n    <tr>\n      <th>501</th>\n      <td>15.966789</td>\n    </tr>\n    <tr>\n      <th>502</th>\n      <td>22.089684</td>\n    </tr>\n    <tr>\n      <th>503</th>\n      <td>16.458196</td>\n    </tr>\n    <tr>\n      <th>504</th>\n      <td>9.124920</td>\n    </tr>\n    <tr>\n      <th>505</th>\n      <td>21.092596</td>\n    </tr>\n  </tbody>\n</table>\n<p>506 rows × 1 columns</p>\n</div>"
     },
     "metadata": {},
     "output_type": "execute_result",
     "execution_count": 30
    }
   ],
   "source": [
    "crime_i"
   ]
  },
  {
   "cell_type": "code",
   "execution_count": 31,
   "metadata": {
    "pycharm": {
     "is_executing": false
    }
   },
   "outputs": [
    {
     "data": {
      "text/plain": "pandas.core.frame.DataFrame"
     },
     "metadata": {},
     "output_type": "execute_result",
     "execution_count": 31
    }
   ],
   "source": [
    "crime = pd.DataFrame(crime)\n",
    "type(crime)"
   ]
  },
  {
   "cell_type": "code",
   "execution_count": 32,
   "metadata": {
    "pycharm": {
     "is_executing": false
    }
   },
   "outputs": [
    {
     "data": {
      "text/plain": "           0           1\n0    0.00632  158.227848\n1    0.02731   36.616624\n2    0.02729   36.643459\n3    0.03237   30.892802\n4    0.06905   14.482259\n..       ...         ...\n501  0.06263   15.966789\n502  0.04527   22.089684\n503  0.06076   16.458196\n504  0.10959    9.124920\n505  0.04741   21.092596\n\n[506 rows x 2 columns]",
      "text/html": "<div>\n<style scoped>\n    .dataframe tbody tr th:only-of-type {\n        vertical-align: middle;\n    }\n\n    .dataframe tbody tr th {\n        vertical-align: top;\n    }\n\n    .dataframe thead th {\n        text-align: right;\n    }\n</style>\n<table border=\"1\" class=\"dataframe\">\n  <thead>\n    <tr style=\"text-align: right;\">\n      <th></th>\n      <th>0</th>\n      <th>1</th>\n    </tr>\n  </thead>\n  <tbody>\n    <tr>\n      <th>0</th>\n      <td>0.00632</td>\n      <td>158.227848</td>\n    </tr>\n    <tr>\n      <th>1</th>\n      <td>0.02731</td>\n      <td>36.616624</td>\n    </tr>\n    <tr>\n      <th>2</th>\n      <td>0.02729</td>\n      <td>36.643459</td>\n    </tr>\n    <tr>\n      <th>3</th>\n      <td>0.03237</td>\n      <td>30.892802</td>\n    </tr>\n    <tr>\n      <th>4</th>\n      <td>0.06905</td>\n      <td>14.482259</td>\n    </tr>\n    <tr>\n      <th>...</th>\n      <td>...</td>\n      <td>...</td>\n    </tr>\n    <tr>\n      <th>501</th>\n      <td>0.06263</td>\n      <td>15.966789</td>\n    </tr>\n    <tr>\n      <th>502</th>\n      <td>0.04527</td>\n      <td>22.089684</td>\n    </tr>\n    <tr>\n      <th>503</th>\n      <td>0.06076</td>\n      <td>16.458196</td>\n    </tr>\n    <tr>\n      <th>504</th>\n      <td>0.10959</td>\n      <td>9.124920</td>\n    </tr>\n    <tr>\n      <th>505</th>\n      <td>0.04741</td>\n      <td>21.092596</td>\n    </tr>\n  </tbody>\n</table>\n<p>506 rows × 2 columns</p>\n</div>"
     },
     "metadata": {},
     "output_type": "execute_result",
     "execution_count": 32
    }
   ],
   "source": [
    "X = pd.concat([crime, crime_i], ignore_index=True, axis=1)\n",
    "X"
   ]
  },
  {
   "cell_type": "code",
   "execution_count": 33,
   "metadata": {
    "pycharm": {
     "is_executing": false
    }
   },
   "outputs": [],
   "source": [
    "X_train, X_test, y_train, y_test = train_test_split(crime_i, y, test_size=0.2, random_state=50)"
   ]
  },
  {
   "cell_type": "code",
   "execution_count": 34,
   "metadata": {
    "pycharm": {
     "is_executing": false
    }
   },
   "outputs": [
    {
     "data": {
      "text/plain": "LinearRegression(copy_X=True, fit_intercept=True, n_jobs=None, normalize=True)"
     },
     "metadata": {},
     "output_type": "execute_result",
     "execution_count": 34
    }
   ],
   "source": [
    "p_regressor = LinearRegression(normalize=True)\n",
    "p_regressor.fit(X_train, y_train)"
   ]
  },
  {
   "cell_type": "code",
   "execution_count": 35,
   "metadata": {
    "pycharm": {
     "is_executing": false
    }
   },
   "outputs": [
    {
     "data": {
      "text/plain": "array([0.16367523])"
     },
     "metadata": {},
     "output_type": "execute_result",
     "execution_count": 35
    }
   ],
   "source": [
    "p_regressor.coef_"
   ]
  },
  {
   "cell_type": "code",
   "execution_count": 36,
   "metadata": {
    "pycharm": {
     "is_executing": false
    }
   },
   "outputs": [
    {
     "data": {
      "text/plain": "array([20.9154441 , 21.48711764, 20.92383695, 21.00140523, 24.09956952,\n       20.8993159 , 23.13897708, 20.90032396, 20.89733379, 22.03623324,\n       21.04510899, 22.14517844, 20.90554736, 25.22334019, 20.91792748,\n       20.9008801 , 22.42742051, 25.50703342, 23.16388947, 22.87580065,\n       21.18431345, 22.23410883, 21.00804584, 21.03003767, 23.70686672,\n       20.90063118, 20.93792533, 22.47014202, 23.7713063 , 21.41886352,\n       20.97831977, 21.02722586, 20.90838486, 22.87872668, 21.63312174,\n       24.19815585, 21.12877581, 22.12732778, 23.89657271, 20.96877401,\n       23.55002244, 21.65434852, 22.541364  , 24.46888684, 22.80737682,\n       20.98100175, 24.03439885, 22.44294537, 20.95066864, 21.81769983,\n       23.33562869, 26.87275204, 21.51110277, 20.91098317, 22.02964945,\n       22.27285426, 21.27642176, 21.98052167, 21.55858365, 20.90739148,\n       20.92134217, 22.20708073, 22.41507679, 22.75932981, 21.36115641,\n       21.5950067 , 21.09767588, 21.01507569, 20.9147404 , 21.03481777,\n       21.14578634, 21.10805072, 21.54698066, 21.74846683, 22.04008814,\n       24.1380332 , 20.89959644, 20.94973492, 20.91047007, 21.04279307,\n       21.82392515, 22.12343963, 21.81453772, 20.91457488, 21.83478357,\n       21.42663388, 22.31212378, 22.85985937, 23.51476542, 25.65556763,\n       21.07424415, 23.24784699, 29.02661718, 20.89704407, 20.90840325,\n       20.91992452, 20.98890305, 23.847337  , 20.90282483, 21.48938159,\n       25.44634893, 23.16836174])"
     },
     "metadata": {},
     "output_type": "execute_result",
     "execution_count": 36
    }
   ],
   "source": [
    "y_pred = p_regressor.predict(X_test)\n",
    "y_pred"
   ]
  },
  {
   "cell_type": "code",
   "execution_count": 37,
   "metadata": {
    "pycharm": {
     "is_executing": false
    }
   },
   "outputs": [
    {
     "data": {
      "text/plain": "    Actual  Predicted\n0     22.6  24.882042\n1     50.0  22.415103\n2     23.0  29.696396\n3      8.3  13.845242\n4     21.2  21.461861\n5     19.9  19.364591\n6     20.6  19.923117\n7     18.7  21.466239\n8     16.1  18.213598\n9     18.6  19.902149\n10     8.8  13.001521\n11    17.2  16.841666\n12    14.9  16.340370\n13    10.5   7.107493\n14    50.0  40.404289\n15    29.0  32.503837\n16    23.0  21.701265\n17    33.3  36.852686\n18    29.4  30.854768\n19    21.0  23.123625\n20    23.8  24.900238\n21    19.1  24.489073\n22    20.4  20.461998\n23    29.1  30.190055\n24    19.3  22.306964",
      "text/html": "<div>\n<style scoped>\n    .dataframe tbody tr th:only-of-type {\n        vertical-align: middle;\n    }\n\n    .dataframe tbody tr th {\n        vertical-align: top;\n    }\n\n    .dataframe thead th {\n        text-align: right;\n    }\n</style>\n<table border=\"1\" class=\"dataframe\">\n  <thead>\n    <tr style=\"text-align: right;\">\n      <th></th>\n      <th>Actual</th>\n      <th>Predicted</th>\n    </tr>\n  </thead>\n  <tbody>\n    <tr>\n      <th>0</th>\n      <td>22.6</td>\n      <td>24.882042</td>\n    </tr>\n    <tr>\n      <th>1</th>\n      <td>50.0</td>\n      <td>22.415103</td>\n    </tr>\n    <tr>\n      <th>2</th>\n      <td>23.0</td>\n      <td>29.696396</td>\n    </tr>\n    <tr>\n      <th>3</th>\n      <td>8.3</td>\n      <td>13.845242</td>\n    </tr>\n    <tr>\n      <th>4</th>\n      <td>21.2</td>\n      <td>21.461861</td>\n    </tr>\n    <tr>\n      <th>5</th>\n      <td>19.9</td>\n      <td>19.364591</td>\n    </tr>\n    <tr>\n      <th>6</th>\n      <td>20.6</td>\n      <td>19.923117</td>\n    </tr>\n    <tr>\n      <th>7</th>\n      <td>18.7</td>\n      <td>21.466239</td>\n    </tr>\n    <tr>\n      <th>8</th>\n      <td>16.1</td>\n      <td>18.213598</td>\n    </tr>\n    <tr>\n      <th>9</th>\n      <td>18.6</td>\n      <td>19.902149</td>\n    </tr>\n    <tr>\n      <th>10</th>\n      <td>8.8</td>\n      <td>13.001521</td>\n    </tr>\n    <tr>\n      <th>11</th>\n      <td>17.2</td>\n      <td>16.841666</td>\n    </tr>\n    <tr>\n      <th>12</th>\n      <td>14.9</td>\n      <td>16.340370</td>\n    </tr>\n    <tr>\n      <th>13</th>\n      <td>10.5</td>\n      <td>7.107493</td>\n    </tr>\n    <tr>\n      <th>14</th>\n      <td>50.0</td>\n      <td>40.404289</td>\n    </tr>\n    <tr>\n      <th>15</th>\n      <td>29.0</td>\n      <td>32.503837</td>\n    </tr>\n    <tr>\n      <th>16</th>\n      <td>23.0</td>\n      <td>21.701265</td>\n    </tr>\n    <tr>\n      <th>17</th>\n      <td>33.3</td>\n      <td>36.852686</td>\n    </tr>\n    <tr>\n      <th>18</th>\n      <td>29.4</td>\n      <td>30.854768</td>\n    </tr>\n    <tr>\n      <th>19</th>\n      <td>21.0</td>\n      <td>23.123625</td>\n    </tr>\n    <tr>\n      <th>20</th>\n      <td>23.8</td>\n      <td>24.900238</td>\n    </tr>\n    <tr>\n      <th>21</th>\n      <td>19.1</td>\n      <td>24.489073</td>\n    </tr>\n    <tr>\n      <th>22</th>\n      <td>20.4</td>\n      <td>20.461998</td>\n    </tr>\n    <tr>\n      <th>23</th>\n      <td>29.1</td>\n      <td>30.190055</td>\n    </tr>\n    <tr>\n      <th>24</th>\n      <td>19.3</td>\n      <td>22.306964</td>\n    </tr>\n  </tbody>\n</table>\n</div>"
     },
     "metadata": {},
     "output_type": "execute_result",
     "execution_count": 37
    }
   ],
   "source": [
    "p_df = pd.DataFrame({'Actual':y_test, 'Predicted':y_pred})\n",
    "p_df1 = m_df.head(25)\n",
    "p_df1"
   ]
  },
  {
   "cell_type": "code",
   "execution_count": 38,
   "metadata": {
    "pycharm": {
     "is_executing": false
    }
   },
   "outputs": [
    {
     "data": {
      "text/plain": "<Figure size 1152x648 with 1 Axes>",
      "image/png": "[encoded data removed]"
     },
     "metadata": {
      "needs_background": "light"
     },
     "output_type": "display_data"
    }
   ],
   "source": [
    "p_df1.plot(kind='bar',figsize=(16,9))\n",
    "plt.grid(which='major', linestyle='-', linewidth='0.5', color='green')\n",
    "plt.grid(which='minor', linestyle=':', linewidth='0.5', color='black')\n",
    "plt.show()"
   ]
  },
  {
   "cell_type": "code",
   "execution_count": 39,
   "metadata": {
    "pycharm": {
     "is_executing": false
    }
   },
   "outputs": [
    {
     "name": "stdout",
     "text": [
      "Mean Absolute Error: 5.855953095208589\nMean Squared Error: 70.88178991916595\nRoot Mean Squared Error: 8.41913237330106\n"
     ],
     "output_type": "stream"
    }
   ],
   "source": [
    "print('Mean Absolute Error:', metrics.mean_absolute_error(y_test, y_pred))  \n",
    "print('Mean Squared Error:', metrics.mean_squared_error(y_test, y_pred))  \n",
    "print('Root Mean Squared Error:', np.sqrt(metrics.mean_squared_error(y_test, y_pred)))"
   ]
  },
  {
   "cell_type": "markdown",
   "metadata": {},
   "source": [
    "As we can see RMSE decreased from 8.700 to 8.419 thus we improved our por model by schoosing appropriate feature value"
   ]
  },
  {
   "cell_type": "code",
   "execution_count": 40,
   "metadata": {
    "pycharm": {
     "is_executing": false
    }
   },
   "outputs": [
    {
     "data": {
      "text/plain": "<Figure size 432x288 with 1 Axes>",
      "image/png": "[encoded data removed]"
     },
     "metadata": {
      "needs_background": "light"
     },
     "output_type": "display_data"
    }
   ],
   "source": [
    "plt.scatter(X_test, y_test, color='gray')\n",
    "plt.plot(X_test, y_pred,color='red', linewidth=2)\n",
    "plt.show()"
   ]
  },
  {
   "cell_type": "code",
   "execution_count": 40,
   "metadata": {
    "pycharm": {
     "is_executing": false
    }
   },
   "outputs": [],
   "source": []
  }
 ],
 "metadata": {
  "kernelspec": {
   "display_name": "Python 3",
   "language": "python",
   "name": "python3"
  },
  "language_info": {
   "codemirror_mode": {
    "name": "ipython",
    "version": 3
   },
   "file_extension": ".py",
   "mimetype": "text/x-python",
   "name": "python",
   "nbconvert_exporter": "python",
   "pygments_lexer": "ipython3",
   "version": "3.7.5"
  },
  "pycharm": {
   "stem_cell": {
    "cell_type": "raw",
    "source": [],
    "metadata": {
     "collapsed": false
    }
   }
  }
 },
 "nbformat": 4,
 "nbformat_minor": 1
}